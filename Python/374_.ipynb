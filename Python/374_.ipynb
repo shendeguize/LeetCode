{
 "cells": [
  {
   "cell_type": "code",
   "execution_count": null,
   "metadata": {
    "collapsed": true
   },
   "outputs": [],
   "source": [
    "# The guess API is already defined for you.\n",
    "# @param num, your guess\n",
    "# @return -1 if my number is lower, 1 if my number is higher, otherwise return 0\n",
    "# def guess(num):\n",
    "\n",
    "class Solution(object):\n",
    "    def guessNumber(self, n):\n",
    "        \"\"\"\n",
    "        :type n: int\n",
    "        :rtype: int\n",
    "        \"\"\"\n",
    "        return self.guessNumberBin(1,n)\n",
    "    def guessNumberBin(self,start,end):\n",
    "        if start==end-1:\n",
    "            if guess(start)==0:\n",
    "                return start\n",
    "            else:\n",
    "                return end\n",
    "        else:\n",
    "            Mid=(start+end)//2\n",
    "            if guess(Mid)==0:\n",
    "                return Mid\n",
    "            elif guess(Mid)==-1:\n",
    "                return self.guessNumberBin(start,Mid)\n",
    "            else:\n",
    "                return self.guessNumberBin(Mid,end)"
   ]
  }
 ],
 "metadata": {
  "kernelspec": {
   "display_name": "Python 3",
   "language": "python",
   "name": "python3"
  },
  "language_info": {
   "codemirror_mode": {
    "name": "ipython",
    "version": 3
   },
   "file_extension": ".py",
   "mimetype": "text/x-python",
   "name": "python",
   "nbconvert_exporter": "python",
   "pygments_lexer": "ipython3",
   "version": "3.6.2"
  }
 },
 "nbformat": 4,
 "nbformat_minor": 2
}
