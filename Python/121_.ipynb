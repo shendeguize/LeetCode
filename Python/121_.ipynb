{
 "cells": [
  {
   "cell_type": "code",
   "execution_count": null,
   "metadata": {
    "collapsed": true
   },
   "outputs": [],
   "source": [
    "class Solution:\n",
    "    def maxProfit(self, prices):\n",
    "        \"\"\"\n",
    "        :type prices: List[int]\n",
    "        :rtype: int\n",
    "        \"\"\"\n",
    "        if len(prices)<=1:\n",
    "            return 0\n",
    "        New=[]\n",
    "        for i in range(1,len(prices)):\n",
    "            New.append(prices[i]-prices[i-1])\n",
    "        \n",
    "        #Kadane\n",
    "        Max_Current=Max_Global=New[0]\n",
    "        for i in range(1,len(New)):\n",
    "            Max_Current=max(New[i],New[i]+Max_Current)\n",
    "            Max_Global=max(Max_Global,Max_Current)\n",
    "        return max(Max_Global,0)"
   ]
  }
 ],
 "metadata": {
  "kernelspec": {
   "display_name": "Python 3",
   "language": "python",
   "name": "python3"
  },
  "language_info": {
   "codemirror_mode": {
    "name": "ipython",
    "version": 3
   },
   "file_extension": ".py",
   "mimetype": "text/x-python",
   "name": "python",
   "nbconvert_exporter": "python",
   "pygments_lexer": "ipython3",
   "version": "3.6.2"
  }
 },
 "nbformat": 4,
 "nbformat_minor": 2
}
