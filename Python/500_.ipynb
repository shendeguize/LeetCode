{
 "cells": [
  {
   "cell_type": "code",
   "execution_count": null,
   "metadata": {
    "collapsed": true
   },
   "outputs": [],
   "source": [
    "class Solution(object):\n",
    "    def findWords(self, words):\n",
    "        \"\"\"\n",
    "        :type words: List[str]\n",
    "        :rtype: List[str]\n",
    "        \"\"\"\n",
    "        DictPosition=dict(zip(list(\"QWERTYUIOPqwertyuiop\"),[1]*20))\n",
    "        DictPosition.update(dict(zip(list(\"ASDFGHJKLasdfghjkl\"),[2]*18)))\n",
    "        DictPosition.update(dict(zip(list(\"ZXCVBNMzxcvbnm\"),[3]*14)))\n",
    "        Out=[]\n",
    "        for word in words:\n",
    "            Temp=DictPosition[word[0]]\n",
    "            print(\"Temp:\",Temp)\n",
    "            Flag=True\n",
    "            for char in word:\n",
    "                print(char,DictPosition[char])\n",
    "                if DictPosition[char]!=Temp:\n",
    "                    Flag=False\n",
    "                    break\n",
    "            if Flag==True:\n",
    "                Out.append(word)\n",
    "        return Out"
   ]
  }
 ],
 "metadata": {
  "kernelspec": {
   "display_name": "Python 3",
   "language": "python",
   "name": "python3"
  },
  "language_info": {
   "codemirror_mode": {
    "name": "ipython",
    "version": 3
   },
   "file_extension": ".py",
   "mimetype": "text/x-python",
   "name": "python",
   "nbconvert_exporter": "python",
   "pygments_lexer": "ipython3",
   "version": "3.6.2"
  }
 },
 "nbformat": 4,
 "nbformat_minor": 2
}
