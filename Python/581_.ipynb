{
 "cells": [
  {
   "cell_type": "code",
   "execution_count": null,
   "metadata": {
    "collapsed": true
   },
   "outputs": [],
   "source": [
    "class Solution:\n",
    "    def findUnsortedSubarray(self, nums):\n",
    "        \"\"\"\n",
    "        :type nums: List[int]\n",
    "        :rtype: int\n",
    "        \"\"\"\n",
    "        Temp=sorted(nums)\n",
    "        s,e=0,0\n",
    "        for i in range(len(nums)):\n",
    "            if nums[i]!=Temp[i]:\n",
    "                s=i-1\n",
    "                break\n",
    "        for i in range(len(nums))[::-1]:\n",
    "            if nums[i]!=Temp[i]:\n",
    "                e=i\n",
    "                break\n",
    "        return e-s"
   ]
  }
 ],
 "metadata": {
  "kernelspec": {
   "display_name": "Python 3",
   "language": "python",
   "name": "python3"
  },
  "language_info": {
   "codemirror_mode": {
    "name": "ipython",
    "version": 3
   },
   "file_extension": ".py",
   "mimetype": "text/x-python",
   "name": "python",
   "nbconvert_exporter": "python",
   "pygments_lexer": "ipython3",
   "version": "3.6.2"
  }
 },
 "nbformat": 4,
 "nbformat_minor": 2
}
