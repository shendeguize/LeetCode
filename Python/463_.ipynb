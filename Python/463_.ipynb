{
 "cells": [
  {
   "cell_type": "code",
   "execution_count": null,
   "metadata": {
    "collapsed": true
   },
   "outputs": [],
   "source": [
    "class Solution(object):\n",
    "    def islandPerimeter(self, grid):\n",
    "        \"\"\"\n",
    "        :type grid: List[List[int]]\n",
    "        :rtype: int\n",
    "        \"\"\"\n",
    "        Leny,Lenx=len(grid),len(grid[0])\n",
    "        Out=sum(grid[0])+sum(grid[-1])\n",
    "        for item in grid:\n",
    "            Out+=item[0]+item[-1]\n",
    "        for i in range(1,Leny-1):\n",
    "            for j in range(1,Lenx-1):\n",
    "                if grid[i][j]==0:\n",
    "                    grid[i][j]=grid[i-1][j] and grid[i+1][j] and grid[i][j-1] and grid[i][j+1]\n",
    "        for i in range(Leny):\n",
    "            for j in range(1,Lenx):\n",
    "                Out+=not(not grid[i][j] and not grid[i][j-1]) and (not grid[i][j] or not grid[i][j-1])\n",
    "        for i in range(Lenx):\n",
    "            for j in range(1,Leny):\n",
    "                Out+=not(not grid[j][i] and not grid[j-1][i]) and (not grid[j][i] or not grid[j-1][i])\n",
    "        return Out"
   ]
  }
 ],
 "metadata": {
  "kernelspec": {
   "display_name": "Python 3",
   "language": "python",
   "name": "python3"
  },
  "language_info": {
   "codemirror_mode": {
    "name": "ipython",
    "version": 3
   },
   "file_extension": ".py",
   "mimetype": "text/x-python",
   "name": "python",
   "nbconvert_exporter": "python",
   "pygments_lexer": "ipython3",
   "version": "3.6.2"
  }
 },
 "nbformat": 4,
 "nbformat_minor": 2
}
