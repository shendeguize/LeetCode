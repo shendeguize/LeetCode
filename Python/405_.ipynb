{
 "cells": [
  {
   "cell_type": "code",
   "execution_count": null,
   "metadata": {
    "collapsed": true
   },
   "outputs": [],
   "source": [
    "class Solution(object):\n",
    "    def toHex(self, num):\n",
    "        \"\"\"\n",
    "        :type num: int\n",
    "        :rtype: str\n",
    "        \"\"\"\n",
    "        Hex=\"0123456789abcdef\"\n",
    "        if num>=0:\n",
    "            Out=\"\"\n",
    "            while(num>15):\n",
    "                Out+=Hex[num%16]\n",
    "                num//=16\n",
    "            Out+=Hex[num]\n",
    "            return Out[::-1]\n",
    "        else:\n",
    "            Out=list(self.toHex(-num))\n",
    "            Out[0:0]=['0']*(8-len(Out))\n",
    "            for i in range(8):\n",
    "                Out[i]=Hex[15-self.Hex2Num(Out[i])]\n",
    "            return self.HexPlusOne(\"\".join(Out))\n",
    "    def HexPlusOne(self,StrHex):\n",
    "        Hex=\"0123456789abcdef\"\n",
    "        StrHex=list(StrHex)\n",
    "        for i in range(8)[::-1]:\n",
    "            if self.Hex2Num(StrHex[i])!=15:\n",
    "                StrHex[i]=Hex[self.Hex2Num(StrHex[i])+1]\n",
    "                return \"\".join(StrHex)\n",
    "            else:\n",
    "                StrHex[i]='0'\n",
    "        return \"\".join(StrHex)\n",
    "    def Hex2Num(self,CharHex):\n",
    "        if ord(CharHex)<=ord('9'):\n",
    "            H=ord(CharHex)-ord('0')\n",
    "        else:\n",
    "            H=ord(CharHex)-ord('a')+10\n",
    "        return H"
   ]
  },
  {
   "cell_type": "code",
   "execution_count": null,
   "metadata": {
    "collapsed": true
   },
   "outputs": [],
   "source": []
  }
 ],
 "metadata": {
  "kernelspec": {
   "display_name": "Python 3",
   "language": "python",
   "name": "python3"
  },
  "language_info": {
   "codemirror_mode": {
    "name": "ipython",
    "version": 3
   },
   "file_extension": ".py",
   "mimetype": "text/x-python",
   "name": "python",
   "nbconvert_exporter": "python",
   "pygments_lexer": "ipython3",
   "version": "3.6.2"
  }
 },
 "nbformat": 4,
 "nbformat_minor": 2
}
