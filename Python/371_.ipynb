{
 "cells": [
  {
   "cell_type": "code",
   "execution_count": 39,
   "metadata": {},
   "outputs": [],
   "source": [
    "class Solution(object):\n",
    "    def getSum(self, a, b):\n",
    "        \"\"\"\n",
    "        :type a: int\n",
    "        :type b: int\n",
    "        :rtype: int\n",
    "        \"\"\"\n",
    "        Len=max(len(str(bin(abs(a)))),len(str(bin(abs(b)))))+1\n",
    "        return self.Plus(self.Com2(Len,a),self.Com2(Len,b))\n",
    "    def Plus(self,La,Lb):\n",
    "        Out=['0']*(len(La)+1)\n",
    "        for i in range(len(La))[::-1]:\n",
    "            if La[i]==Lb[i]=='1':\n",
    "                Out[i]='1'\n",
    "            elif La[i]=='1'or Lb[i]=='1':\n",
    "                if Out[i+1]=='1':\n",
    "                    Out[i]='1'\n",
    "                    Out[i+1]='0'\n",
    "                else:\n",
    "                    Out[i+1]='1'\n",
    "        if Out[1]=='1':\n",
    "            for i in range(len(Out))[::-1]:\n",
    "                if Out[i]=='1':\n",
    "                    Out[i]='0'\n",
    "                    break\n",
    "                else:\n",
    "                    Out[i]='1'\n",
    "            for i in range(len(Out)):\n",
    "                if Out[i]=='0':\n",
    "                    Out[i]='1'\n",
    "                else:\n",
    "                    Out[i]='0'\n",
    "            return -int(\"\".join(Out[3:]),2)\n",
    "        else:\n",
    "            return int(\"\".join(Out[3:]),2)\n",
    "                    \n",
    "    def Com2(self,Len,a):\n",
    "        Out=list(str(bin(abs(a))))[2:]\n",
    "        Out[0:0]=['0']*(Len-len(Out))\n",
    "        if a>=0:\n",
    "            return Out\n",
    "        else:\n",
    "            for i in range(Len):\n",
    "                if Out[i]=='0':\n",
    "                    Out[i]='1'\n",
    "                else:\n",
    "                    Out[i]='0'\n",
    "            for i in range(Len)[::-1]:\n",
    "                if Out[i]=='0':\n",
    "                    Out[i]='1'\n",
    "                    return Out\n",
    "                else:\n",
    "                    Out[i]='0'\n",
    "            return Out"
   ]
  },
  {
   "cell_type": "code",
   "execution_count": 40,
   "metadata": {},
   "outputs": [
    {
     "data": {
      "text/plain": [
       "-2"
      ]
     },
     "execution_count": 40,
     "metadata": {},
     "output_type": "execute_result"
    }
   ],
   "source": [
    "self=Solution\n",
    "self.Plus(self,self.Com2(self,10,-3),self.Com2(self,10,1))"
   ]
  },
  {
   "cell_type": "code",
   "execution_count": 19,
   "metadata": {},
   "outputs": [
    {
     "data": {
      "text/plain": [
       "'-0b10'"
      ]
     },
     "execution_count": 19,
     "metadata": {},
     "output_type": "execute_result"
    }
   ],
   "source": [
    "bin(-2)"
   ]
  },
  {
   "cell_type": "code",
   "execution_count": null,
   "metadata": {
    "collapsed": true
   },
   "outputs": [],
   "source": []
  }
 ],
 "metadata": {
  "kernelspec": {
   "display_name": "Python 3",
   "language": "python",
   "name": "python3"
  },
  "language_info": {
   "codemirror_mode": {
    "name": "ipython",
    "version": 3
   },
   "file_extension": ".py",
   "mimetype": "text/x-python",
   "name": "python",
   "nbconvert_exporter": "python",
   "pygments_lexer": "ipython3",
   "version": "3.6.2"
  }
 },
 "nbformat": 4,
 "nbformat_minor": 2
}
