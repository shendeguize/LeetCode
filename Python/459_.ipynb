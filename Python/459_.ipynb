{
 "cells": [
  {
   "cell_type": "code",
   "execution_count": null,
   "metadata": {
    "collapsed": true
   },
   "outputs": [],
   "source": [
    "class Solution(object):\n",
    "    def repeatedSubstringPattern(self, s):\n",
    "        \"\"\"\n",
    "        :type s: str\n",
    "        :rtype: bool\n",
    "        \"\"\"\n",
    "        SubLen=[]\n",
    "        Len=len(s)\n",
    "        for i in range(1,Len//2+1):\n",
    "            if Len%i==0:\n",
    "                SubLen.append(i)\n",
    "        for item in SubLen[::-1]:\n",
    "            if self.SubPair(s,s[:item]) is True:\n",
    "                return True\n",
    "        return False\n",
    "    def SubPair(self,s,sub):\n",
    "        Ls=len(sub)\n",
    "        for i in range(len(s)//Ls):\n",
    "            if s[i*Ls:i*Ls+Ls]!=sub:\n",
    "                return False\n",
    "        return True"
   ]
  }
 ],
 "metadata": {
  "kernelspec": {
   "display_name": "Python 3",
   "language": "python",
   "name": "python3"
  },
  "language_info": {
   "codemirror_mode": {
    "name": "ipython",
    "version": 3
   },
   "file_extension": ".py",
   "mimetype": "text/x-python",
   "name": "python",
   "nbconvert_exporter": "python",
   "pygments_lexer": "ipython3",
   "version": "3.6.2"
  }
 },
 "nbformat": 4,
 "nbformat_minor": 2
}
