{
 "cells": [
  {
   "cell_type": "code",
   "execution_count": 25,
   "metadata": {
    "collapsed": true
   },
   "outputs": [],
   "source": [
    "class Solution(object):\n",
    "    def scoreOfParentheses(self, S):\n",
    "        \"\"\"\n",
    "        :type S: str\n",
    "        :rtype: int\n",
    "        \"\"\"\n",
    "        Out=[]\n",
    "        for item in S[::-1]:\n",
    "            if item ==')':\n",
    "                Out.append(0)\n",
    "            else:\n",
    "                if Out[-1]==0:\n",
    "                    Out[-1]=1\n",
    "                else:\n",
    "                    for i in range(len(Out)-1)[::-1]:\n",
    "                        if Out[i]==0 and Out[i+1]!=0:\n",
    "                            Out[i:]=[sum(Out[i:])]\n",
    "                            Out[i]=Out[i]*2\n",
    "                            break\n",
    "            print(Out,item)\n",
    "        return sum(Out)"
   ]
  },
  {
   "cell_type": "code",
   "execution_count": null,
   "metadata": {
    "collapsed": true
   },
   "outputs": [],
   "source": []
  }
 ],
 "metadata": {
  "kernelspec": {
   "display_name": "Python 3",
   "language": "python",
   "name": "python3"
  },
  "language_info": {
   "codemirror_mode": {
    "name": "ipython",
    "version": 3
   },
   "file_extension": ".py",
   "mimetype": "text/x-python",
   "name": "python",
   "nbconvert_exporter": "python",
   "pygments_lexer": "ipython3",
   "version": "3.6.2"
  }
 },
 "nbformat": 4,
 "nbformat_minor": 2
}
