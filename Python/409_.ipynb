{
 "cells": [
  {
   "cell_type": "code",
   "execution_count": null,
   "metadata": {
    "collapsed": true
   },
   "outputs": [],
   "source": [
    "class Solution(object):\n",
    "    def longestPalindrome(self, s):\n",
    "        \"\"\"\n",
    "        :type s: str\n",
    "        :rtype: int\n",
    "        \"\"\"\n",
    "        dict_Count={}\n",
    "        Odd=0\n",
    "        for item in s:\n",
    "            if item in dict_Count.keys():\n",
    "                dict_Count[item]+=1\n",
    "            else:\n",
    "                dict_Count[item]=1\n",
    "        Count=0\n",
    "        for key in dict_Count.keys():\n",
    "            if dict_Count[key]%2==1:\n",
    "                Odd=1\n",
    "                Count+=dict_Count[key]-1\n",
    "            else:\n",
    "                Count+=dict_Count[key]\n",
    "        return Count+Odd"
   ]
  }
 ],
 "metadata": {
  "kernelspec": {
   "display_name": "Python 3",
   "language": "python",
   "name": "python3"
  },
  "language_info": {
   "codemirror_mode": {
    "name": "ipython",
    "version": 3
   },
   "file_extension": ".py",
   "mimetype": "text/x-python",
   "name": "python",
   "nbconvert_exporter": "python",
   "pygments_lexer": "ipython3",
   "version": "3.6.2"
  }
 },
 "nbformat": 4,
 "nbformat_minor": 2
}
