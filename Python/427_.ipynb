{
 "cells": [
  {
   "cell_type": "code",
   "execution_count": 5,
   "metadata": {},
   "outputs": [],
   "source": [
    "class Node:\n",
    "    def __init__(self, val, isLeaf, topLeft, topRight, bottomLeft, bottomRight):\n",
    "        self.val = val\n",
    "        self.isLeaf = isLeaf\n",
    "        self.topLeft = topLeft\n",
    "        self.topRight = topRight\n",
    "        self.bottomLeft = bottomLeft\n",
    "        self.bottomRight = bottomRight"
   ]
  },
  {
   "cell_type": "code",
   "execution_count": null,
   "metadata": {},
   "outputs": [],
   "source": [
    "def sumGrid(grid):\n",
    "    return sum(map(sum, grid))\n",
    "\n",
    "\n",
    "def sepQuad(grid):\n",
    "    # if len(grid) <= 1 or len(grid) % 2 == 1:\n",
    "    #     raise Exception\n",
    "    half = len(grid) // 2\n",
    "    top, bottom = grid[: half], grid[half:]\n",
    "    topLeft = [line[:half] for line in top]\n",
    "    topRight = [line[half:] for line in top]\n",
    "    bottomLeft = [line[:half] for line in bottom]\n",
    "    bottomRight = [line[half:] for line in bottom]\n",
    "    return topLeft, topRight, bottomLeft, bottomRight\n",
    "\n",
    "\n",
    "class Solution:\n",
    "    def construct(self, grid):\n",
    "        s = sumGrid(grid)\n",
    "        if not 0 < s < len(grid) ** 2:\n",
    "            return Node(bool(s),\n",
    "                        True,\n",
    "                        None,\n",
    "                        None,\n",
    "                        None,\n",
    "                        None)\n",
    "        else:\n",
    "            topLeft, topRight, bottomLeft, bottomRight = sepQuad(grid)\n",
    "            return Node(bool(s),\n",
    "                        False,\n",
    "                        self.construct(topLeft),\n",
    "                        self.construct(topRight),\n",
    "                        self.construct(bottomLeft),\n",
    "                        self.construct(bottomRight))"
   ]
  }
 ],
 "metadata": {
  "kernelspec": {
   "display_name": "Python 3",
   "language": "python",
   "name": "python3"
  },
  "language_info": {
   "codemirror_mode": {
    "name": "ipython",
    "version": 3
   },
   "file_extension": ".py",
   "mimetype": "text/x-python",
   "name": "python",
   "nbconvert_exporter": "python",
   "pygments_lexer": "ipython3",
   "version": "3.7.1"
  }
 },
 "nbformat": 4,
 "nbformat_minor": 2
}
