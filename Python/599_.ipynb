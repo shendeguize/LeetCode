{
 "cells": [
  {
   "cell_type": "code",
   "execution_count": null,
   "metadata": {
    "collapsed": true
   },
   "outputs": [],
   "source": [
    "class Solution:\n",
    "    def findRestaurant(self, list1, list2):\n",
    "        \"\"\"\n",
    "        :type list1: List[str]\n",
    "        :type list2: List[str]\n",
    "        :rtype: List[str]\n",
    "        \"\"\"\n",
    "        D1,D2=dict(zip(list1,range(len(list1)))),dict(zip(list2,range(len(list2))))\n",
    "        Out={}\n",
    "        for item in D1:\n",
    "            if item in D2:\n",
    "                S=D1[item]+D2[item]\n",
    "                if S in Out:\n",
    "                    Out[S].append(item)\n",
    "                else:\n",
    "                    Out[S]=[item]\n",
    "        print(D1,D2,Out)\n",
    "        return Out[min(Out.keys())]"
   ]
  }
 ],
 "metadata": {
  "kernelspec": {
   "display_name": "Python 3",
   "language": "python",
   "name": "python3"
  },
  "language_info": {
   "codemirror_mode": {
    "name": "ipython",
    "version": 3
   },
   "file_extension": ".py",
   "mimetype": "text/x-python",
   "name": "python",
   "nbconvert_exporter": "python",
   "pygments_lexer": "ipython3",
   "version": "3.6.2"
  }
 },
 "nbformat": 4,
 "nbformat_minor": 2
}
