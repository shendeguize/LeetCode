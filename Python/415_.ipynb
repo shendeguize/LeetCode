{
 "cells": [
  {
   "cell_type": "code",
   "execution_count": null,
   "metadata": {
    "collapsed": true
   },
   "outputs": [],
   "source": [
    "class Solution(object):\n",
    "    def addStrings(self, num1, num2):\n",
    "        \"\"\"\n",
    "        :type num1: str\n",
    "        :type num2: str\n",
    "        :rtype: str\n",
    "        \"\"\"\n",
    "        if num1==\"\":\n",
    "            return num2\n",
    "        elif num2==\"\":\n",
    "            return num1\n",
    "        else:\n",
    "            D1=ord(num1[-1])-ord('0')\n",
    "            D2=ord(num2[-1])-ord('0')\n",
    "            if D1+D2>9:\n",
    "                return self.addStrings(self.addStrings(num1[:-1],num2[:-1]),\"1\")+str((D1+D2)-10)\n",
    "            else:\n",
    "                return self.addStrings(num1[:-1],num2[:-1])+str(D1+D2)"
   ]
  }
 ],
 "metadata": {
  "kernelspec": {
   "display_name": "Python 3",
   "language": "python",
   "name": "python3"
  },
  "language_info": {
   "codemirror_mode": {
    "name": "ipython",
    "version": 3
   },
   "file_extension": ".py",
   "mimetype": "text/x-python",
   "name": "python",
   "nbconvert_exporter": "python",
   "pygments_lexer": "ipython3",
   "version": "3.6.2"
  }
 },
 "nbformat": 4,
 "nbformat_minor": 2
}
