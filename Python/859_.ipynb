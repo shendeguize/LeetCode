{
 "cells": [
  {
   "cell_type": "code",
   "execution_count": null,
   "metadata": {
    "collapsed": true
   },
   "outputs": [],
   "source": [
    "class Solution(object):\n",
    "    def buddyStrings(self, A, B):\n",
    "        \"\"\"\n",
    "        :type A: str\n",
    "        :type B: str\n",
    "        :rtype: bool\n",
    "        \"\"\"\n",
    "        if len(A)!=len(B):\n",
    "            return False\n",
    "        elif A!=B:\n",
    "            Temp=[]\n",
    "            for i in range(len(A)):\n",
    "                if A[i]!=B[i]:\n",
    "                    Temp.append(ord(A[i])-ord(B[i]))\n",
    "            if sum(Temp)==0 and len(Temp)==2:\n",
    "                return True\n",
    "            else:\n",
    "                return False\n",
    "        else:\n",
    "            for i in range(len(A)):\n",
    "                if A[i] in A[i+1:]:\n",
    "                    return True\n",
    "            return False"
   ]
  }
 ],
 "metadata": {
  "kernelspec": {
   "display_name": "Python 3",
   "language": "python",
   "name": "python3"
  },
  "language_info": {
   "codemirror_mode": {
    "name": "ipython",
    "version": 3
   },
   "file_extension": ".py",
   "mimetype": "text/x-python",
   "name": "python",
   "nbconvert_exporter": "python",
   "pygments_lexer": "ipython3",
   "version": "3.6.2"
  }
 },
 "nbformat": 4,
 "nbformat_minor": 2
}
