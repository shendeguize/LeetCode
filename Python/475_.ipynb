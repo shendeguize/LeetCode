{
 "cells": [
  {
   "cell_type": "code",
   "execution_count": 12,
   "metadata": {},
   "outputs": [],
   "source": [
    "class Solution(object):\n",
    "    def findRadius(self, houses, heaters):\n",
    "        \"\"\"\n",
    "        :type houses: List[int]\n",
    "        :type heaters: List[int]\n",
    "        :rtype: int\n",
    "        \"\"\"\n",
    "        Out=[]\n",
    "        heaters=sorted(heaters)\n",
    "        for house in houses:\n",
    "            p_1,p_2=self.BiSearch(heaters,house)\n",
    "            Out.append(min(abs(heaters[p_1]-house),abs(heaters[p_2]-house)))\n",
    "        return max(Out)\n",
    "    def BiSearch(self,heaters,house):\n",
    "        if house<=heaters[0]:\n",
    "            return 0,0\n",
    "        elif house>=heaters[-1]:\n",
    "            return len(heaters)-1,len(heaters)-1\n",
    "        else:\n",
    "            p_1,p_2=0,len(heaters)\n",
    "            while(p_1<p_2-1):\n",
    "                p_temp=(p_1+p_2)//2\n",
    "                if heaters[p_temp]>house:\n",
    "                    p_2=p_temp\n",
    "                elif heaters[p_temp]==house:\n",
    "                    return p_temp,p_temp\n",
    "                else:\n",
    "                    p_1=p_temp\n",
    "            return p_1,p_2"
   ]
  },
  {
   "cell_type": "code",
   "execution_count": null,
   "metadata": {
    "collapsed": true
   },
   "outputs": [],
   "source": []
  }
 ],
 "metadata": {
  "kernelspec": {
   "display_name": "Python 3",
   "language": "python",
   "name": "python3"
  },
  "language_info": {
   "codemirror_mode": {
    "name": "ipython",
    "version": 3
   },
   "file_extension": ".py",
   "mimetype": "text/x-python",
   "name": "python",
   "nbconvert_exporter": "python",
   "pygments_lexer": "ipython3",
   "version": "3.6.2"
  }
 },
 "nbformat": 4,
 "nbformat_minor": 2
}
