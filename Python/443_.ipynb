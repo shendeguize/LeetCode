{
 "cells": [
  {
   "cell_type": "code",
   "execution_count": 1,
   "metadata": {
    "collapsed": true
   },
   "outputs": [],
   "source": [
    "class Solution(object):\n",
    "    def compress(self, chars):\n",
    "        \"\"\"\n",
    "        :type chars: List[str]\n",
    "        :rtype: int\n",
    "        \"\"\"\n",
    "        Len=len(chars)\n",
    "        i=0\n",
    "        while (i<Len):\n",
    "            Count=1\n",
    "            for j in range(i+1,Len):\n",
    "                if chars[j]!=chars[i]:\n",
    "                    break\n",
    "                else:\n",
    "                    Count+=1\n",
    "            if Count!=1:\n",
    "                StrTemp=chars[i]+str(Count)\n",
    "                chars[i:i+Count]=list(StrTemp)\n",
    "                Len=len(chars)\n",
    "                i=i+len(StrTemp)\n",
    "            else:\n",
    "                i+=1\n",
    "        return len(chars)"
   ]
  },
  {
   "cell_type": "code",
   "execution_count": null,
   "metadata": {
    "collapsed": true
   },
   "outputs": [],
   "source": []
  }
 ],
 "metadata": {
  "kernelspec": {
   "display_name": "Python 3",
   "language": "python",
   "name": "python3"
  },
  "language_info": {
   "codemirror_mode": {
    "name": "ipython",
    "version": 3
   },
   "file_extension": ".py",
   "mimetype": "text/x-python",
   "name": "python",
   "nbconvert_exporter": "python",
   "pygments_lexer": "ipython3",
   "version": "3.6.2"
  }
 },
 "nbformat": 4,
 "nbformat_minor": 2
}
