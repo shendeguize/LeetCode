{
 "cells": [
  {
   "cell_type": "code",
   "execution_count": null,
   "metadata": {},
   "outputs": [],
   "source": [
    "class Solution:\n",
    "    def selfDividingNumbers(self, left: int, right: int) -> List[int]:\n",
    "        def isSelfDiv(n):\n",
    "            s = str(n)\n",
    "            for char in s:\n",
    "                if char == \"0\":\n",
    "                    return False\n",
    "                if n % int(char) != 0:\n",
    "                    return False\n",
    "            return True\n",
    "        out = []\n",
    "        for i in range(left, right + 1):\n",
    "            if isSelfDiv(i):\n",
    "                out.append(i)\n",
    "        return out\n",
    "        "
   ]
  }
 ],
 "metadata": {
  "kernelspec": {
   "display_name": "Python 3",
   "language": "python",
   "name": "python3"
  },
  "language_info": {
   "codemirror_mode": {
    "name": "ipython",
    "version": 3
   },
   "file_extension": ".py",
   "mimetype": "text/x-python",
   "name": "python",
   "nbconvert_exporter": "python",
   "pygments_lexer": "ipython3",
   "version": "3.7.1"
  }
 },
 "nbformat": 4,
 "nbformat_minor": 2
}
