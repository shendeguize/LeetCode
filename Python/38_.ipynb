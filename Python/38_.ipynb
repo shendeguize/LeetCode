{
 "cells": [
  {
   "cell_type": "code",
   "execution_count": 1,
   "metadata": {},
   "outputs": [],
   "source": [
    "class Solution:\n",
    "    def countAndSay(self, n):\n",
    "        \"\"\"\n",
    "        :type n: int\n",
    "        :rtype: str\n",
    "        \"\"\"\n",
    "        str_In=\"1\"\n",
    "        for i in range(n-1):\n",
    "            str_In=self.strNext(self,str_In)#LeetCode: str_In=self.strNext(str_In)\n",
    "        return str_In\n",
    "    def strNext(self,str_In):\n",
    "        str_Out=\"\"\n",
    "        p_Start=0\n",
    "        p_End=0\n",
    "        for i in range(len(str_In)):\n",
    "            if i==len(str_In)-1:\n",
    "                p_End=i\n",
    "                str_Out+=str(p_End-p_Start+1)+str_In[p_Start]\n",
    "            else:\n",
    "                if str_In[i]!=str_In[i+1]:\n",
    "                    p_End=i\n",
    "                    str_Out+=str(p_End-p_Start+1)+str_In[p_Start]\n",
    "                    p_Start=i+1\n",
    "        return str_Out"
   ]
  },
  {
   "cell_type": "code",
   "execution_count": 2,
   "metadata": {},
   "outputs": [
    {
     "data": {
      "text/plain": [
       "'1211'"
      ]
     },
     "execution_count": 2,
     "metadata": {},
     "output_type": "execute_result"
    }
   ],
   "source": [
    "self=Solution\n",
    "self.countAndSay(self,4)"
   ]
  },
  {
   "cell_type": "code",
   "execution_count": 3,
   "metadata": {},
   "outputs": [
    {
     "data": {
      "text/plain": [
       "'111221'"
      ]
     },
     "execution_count": 3,
     "metadata": {},
     "output_type": "execute_result"
    }
   ],
   "source": [
    "self.strNext(self,\"1211\")"
   ]
  },
  {
   "cell_type": "code",
   "execution_count": null,
   "metadata": {
    "collapsed": true
   },
   "outputs": [],
   "source": []
  }
 ],
 "metadata": {
  "kernelspec": {
   "display_name": "Python 3",
   "language": "python",
   "name": "python3"
  },
  "language_info": {
   "codemirror_mode": {
    "name": "ipython",
    "version": 3
   },
   "file_extension": ".py",
   "mimetype": "text/x-python",
   "name": "python",
   "nbconvert_exporter": "python",
   "pygments_lexer": "ipython3",
   "version": "3.6.2"
  }
 },
 "nbformat": 4,
 "nbformat_minor": 2
}
