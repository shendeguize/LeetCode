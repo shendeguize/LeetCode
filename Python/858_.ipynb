{
 "cells": [
  {
   "cell_type": "code",
   "execution_count": null,
   "metadata": {
    "collapsed": true
   },
   "outputs": [],
   "source": [
    "class Solution(object):\n",
    "    def mirrorReflection(self, p, q):\n",
    "        \"\"\"\n",
    "        :type p: int\n",
    "        :type q: int\n",
    "        :rtype: int\n",
    "        \"\"\"\n",
    "        i=1\n",
    "        while(1):\n",
    "            x,y=i*p,i*q\n",
    "            if y%p!=0:\n",
    "                i+=1\n",
    "            else:\n",
    "                x//=p\n",
    "                y//=p\n",
    "                if x%2==0 and y%2==1:\n",
    "                    return 2\n",
    "                elif x%2==1 and y%2==1:\n",
    "                    return 1\n",
    "                else:\n",
    "                    return 0"
   ]
  },
  {
   "cell_type": "code",
   "execution_count": null,
   "metadata": {
    "collapsed": true
   },
   "outputs": [],
   "source": [
    "2121\n",
    "o0o0\n",
    "2121\n",
    "o0o0"
   ]
  }
 ],
 "metadata": {
  "kernelspec": {
   "display_name": "Python 3",
   "language": "python",
   "name": "python3"
  },
  "language_info": {
   "codemirror_mode": {
    "name": "ipython",
    "version": 3
   },
   "file_extension": ".py",
   "mimetype": "text/x-python",
   "name": "python",
   "nbconvert_exporter": "python",
   "pygments_lexer": "ipython3",
   "version": "3.6.2"
  }
 },
 "nbformat": 4,
 "nbformat_minor": 2
}
