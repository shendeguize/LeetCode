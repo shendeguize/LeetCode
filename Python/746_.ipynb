{
 "cells": [
  {
   "cell_type": "code",
   "execution_count": null,
   "metadata": {
    "collapsed": true
   },
   "outputs": [],
   "source": [
    "class Solution(object):\n",
    "    def minCostClimbingStairs(self, cost):\n",
    "        \"\"\"\n",
    "        :type cost: List[int]\n",
    "        :rtype: int\n",
    "        \"\"\"\n",
    "        if len(cost)<=2:\n",
    "            return min (cost)\n",
    "        Temp=[0]*len(cost)\n",
    "        Temp[0]=cost[0]\n",
    "        Temp[1]=cost[1]\n",
    "        i=len(cost)-1\n",
    "        for i in range(2,len(cost)):\n",
    "            Temp[i]=min(Temp[i-2]+cost[i],Temp[i-1]+cost[i])\n",
    "        print(Temp)\n",
    "        return min(Temp[-1],Temp[-2])"
   ]
  }
 ],
 "metadata": {
  "kernelspec": {
   "display_name": "Python 3",
   "language": "python",
   "name": "python3"
  },
  "language_info": {
   "codemirror_mode": {
    "name": "ipython",
    "version": 3
   },
   "file_extension": ".py",
   "mimetype": "text/x-python",
   "name": "python",
   "nbconvert_exporter": "python",
   "pygments_lexer": "ipython3",
   "version": "3.6.2"
  }
 },
 "nbformat": 4,
 "nbformat_minor": 2
}
