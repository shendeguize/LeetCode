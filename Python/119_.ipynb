{
 "cells": [
  {
   "cell_type": "code",
   "execution_count": 2,
   "metadata": {},
   "outputs": [],
   "source": [
    "class Solution:\n",
    "    def getRow(self, rowIndex):\n",
    "        \"\"\"\n",
    "        :type rowIndex: int\n",
    "        :rtype: List[int]\n",
    "        \"\"\"\n",
    "        Out=[[1],[1,1]]\n",
    "        for i in range(2,rowIndex+1):\n",
    "            Out.append([1])\n",
    "            for j in range(len(Out[i-1])-1):\n",
    "                Out[i].append(Out[i-1][j]+Out[i-1][j+1])\n",
    "            Out[i].append(1)\n",
    "        return Out[rowIndex]"
   ]
  },
  {
   "cell_type": "code",
   "execution_count": null,
   "metadata": {
    "collapsed": true
   },
   "outputs": [],
   "source": []
  }
 ],
 "metadata": {
  "kernelspec": {
   "display_name": "Python 3",
   "language": "python",
   "name": "python3"
  },
  "language_info": {
   "codemirror_mode": {
    "name": "ipython",
    "version": 3
   },
   "file_extension": ".py",
   "mimetype": "text/x-python",
   "name": "python",
   "nbconvert_exporter": "python",
   "pygments_lexer": "ipython3",
   "version": "3.6.2"
  }
 },
 "nbformat": 4,
 "nbformat_minor": 2
}
