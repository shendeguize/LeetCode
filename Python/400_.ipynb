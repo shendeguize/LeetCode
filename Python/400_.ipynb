{
 "cells": [
  {
   "cell_type": "markdown",
   "metadata": {},
   "source": [
    "### Find the Nth digit in series \"012345678910111213...\""
   ]
  },
  {
   "cell_type": "code",
   "execution_count": 73,
   "metadata": {
    "collapsed": true
   },
   "outputs": [],
   "source": [
    "class Solution(object):\n",
    "    def findNthDigit(self, n):\n",
    "        \"\"\"\n",
    "        :type n: int\n",
    "        :rtype: int\n",
    "        \"\"\"\n",
    "        Zone=[1,9,1,9,1]#Start,End,NumbersStart,NumbersEnd,Level\n",
    "        while(1):\n",
    "            if Zone[2]<=n and n<=Zone[3]:\n",
    "                break\n",
    "            else:\n",
    "                Zone[0]=Zone[1]+1\n",
    "                Zone[1]+=9*(10**Zone[-1])\n",
    "                Zone[-1]+=1\n",
    "                Zone[2]=Zone[3]+1\n",
    "                Zone[3]+=Zone[-1]*(Zone[1]-Zone[0]+1)\n",
    "        Temp=n-Zone[2]\n",
    "        Num=Zone[0]+Temp//Zone[-1]\n",
    "        Temp=Temp%Zone[-1]\n",
    "        print(Zone,Num)\n",
    "        return int(str(Num)[Temp])"
   ]
  },
  {
   "cell_type": "code",
   "execution_count": 77,
   "metadata": {},
   "outputs": [
    {
     "name": "stdout",
     "output_type": "stream",
     "text": [
      "[1000, 9999, 2890, 38889, 4] 2777\n"
     ]
    },
    {
     "data": {
      "text/plain": [
       "7"
      ]
     },
     "execution_count": 77,
     "metadata": {},
     "output_type": "execute_result"
    }
   ],
   "source": [
    "self=Solution()\n",
    "n=10000\n",
    "self.findNthDigit(n)"
   ]
  },
  {
   "cell_type": "code",
   "execution_count": null,
   "metadata": {
    "collapsed": true
   },
   "outputs": [],
   "source": []
  }
 ],
 "metadata": {
  "kernelspec": {
   "display_name": "Python 3",
   "language": "python",
   "name": "python3"
  },
  "language_info": {
   "codemirror_mode": {
    "name": "ipython",
    "version": 3
   },
   "file_extension": ".py",
   "mimetype": "text/x-python",
   "name": "python",
   "nbconvert_exporter": "python",
   "pygments_lexer": "ipython3",
   "version": "3.6.2"
  }
 },
 "nbformat": 4,
 "nbformat_minor": 2
}
