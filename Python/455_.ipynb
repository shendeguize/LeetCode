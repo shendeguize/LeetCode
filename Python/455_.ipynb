{
 "cells": [
  {
   "cell_type": "code",
   "execution_count": 2,
   "metadata": {},
   "outputs": [],
   "source": [
    "class Solution(object):\n",
    "    def findContentChildren(self, g, s):\n",
    "        \"\"\"\n",
    "        :type g: List[int]\n",
    "        :type s: List[int]\n",
    "        :rtype: int\n",
    "        \"\"\"\n",
    "        g=sorted(g)\n",
    "        s=sorted(s)\n",
    "        return self.find(g,s)\n",
    "    def find(self,g,s):\n",
    "        if len(s)==0 or len(g)==0:\n",
    "            return 0\n",
    "        if s[-1]<g[0]:\n",
    "            return 0\n",
    "        elif s[0]>=g[0]:\n",
    "            g.remove(g[0])\n",
    "            s.remove(s[0])\n",
    "            return 1+self.find(g,s)\n",
    "        else:\n",
    "            s.remove(s[0])\n",
    "            return self.find(g,s)"
   ]
  },
  {
   "cell_type": "code",
   "execution_count": null,
   "metadata": {
    "collapsed": true
   },
   "outputs": [],
   "source": []
  }
 ],
 "metadata": {
  "kernelspec": {
   "display_name": "Python 3",
   "language": "python",
   "name": "python3"
  },
  "language_info": {
   "codemirror_mode": {
    "name": "ipython",
    "version": 3
   },
   "file_extension": ".py",
   "mimetype": "text/x-python",
   "name": "python",
   "nbconvert_exporter": "python",
   "pygments_lexer": "ipython3",
   "version": "3.6.2"
  }
 },
 "nbformat": 4,
 "nbformat_minor": 2
}
