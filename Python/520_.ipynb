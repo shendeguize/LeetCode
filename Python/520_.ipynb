{
 "cells": [
  {
   "cell_type": "code",
   "execution_count": 6,
   "metadata": {},
   "outputs": [],
   "source": [
    "class Solution(object):\n",
    "    def detectCapitalUse(self, word):\n",
    "        \"\"\"\n",
    "        :type word: str\n",
    "        :rtype: bool\n",
    "        \"\"\"\n",
    "        if len(word)<=1:\n",
    "            return True\n",
    "        word=list(word)\n",
    "        for i in range(len(word)):\n",
    "            if word[i]<='Z':\n",
    "                word[i]=0\n",
    "            else:\n",
    "                word[i]=1\n",
    "        if word[0]==1:\n",
    "            return sum(word)%len(word)==0\n",
    "        else:\n",
    "            return sum(word[1:])%len(word[1:])==0"
   ]
  },
  {
   "cell_type": "code",
   "execution_count": null,
   "metadata": {
    "collapsed": true
   },
   "outputs": [],
   "source": []
  }
 ],
 "metadata": {
  "kernelspec": {
   "display_name": "Python 3",
   "language": "python",
   "name": "python3"
  },
  "language_info": {
   "codemirror_mode": {
    "name": "ipython",
    "version": 3
   },
   "file_extension": ".py",
   "mimetype": "text/x-python",
   "name": "python",
   "nbconvert_exporter": "python",
   "pygments_lexer": "ipython3",
   "version": "3.6.2"
  }
 },
 "nbformat": 4,
 "nbformat_minor": 2
}
