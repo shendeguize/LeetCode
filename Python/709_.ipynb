{
 "cells": [
  {
   "cell_type": "code",
   "execution_count": null,
   "metadata": {},
   "outputs": [],
   "source": [
    "class Solution:\n",
    "    def toLowerCase(self, str: str) -> str:\n",
    "        out = \"\"\n",
    "        for char in str:\n",
    "            if ord(\"A\") <= ord(char) <= ord(\"Z\"):\n",
    "                out += (chr(ord(\"a\") + ord(char) - ord(\"A\")))\n",
    "            else:\n",
    "                out += char\n",
    "        return out"
   ]
  }
 ],
 "metadata": {
  "kernelspec": {
   "display_name": "Python 3",
   "language": "python",
   "name": "python3"
  },
  "language_info": {
   "codemirror_mode": {
    "name": "ipython",
    "version": 3
   },
   "file_extension": ".py",
   "mimetype": "text/x-python",
   "name": "python",
   "nbconvert_exporter": "python",
   "pygments_lexer": "ipython3",
   "version": "3.7.1"
  }
 },
 "nbformat": 4,
 "nbformat_minor": 2
}
