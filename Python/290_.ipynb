{
 "cells": [
  {
   "cell_type": "code",
   "execution_count": null,
   "metadata": {
    "collapsed": true
   },
   "outputs": [],
   "source": [
    "class Solution(object):\n",
    "    def wordPattern(self, pattern, str):\n",
    "        \"\"\"\n",
    "        :type pattern: str\n",
    "        :type str: str\n",
    "        :rtype: bool\n",
    "        \"\"\"\n",
    "        L_p=list(pattern)\n",
    "        L_s=str.split()\n",
    "        if len(L_p)!=len(L_s):\n",
    "            return False\n",
    "        dict_mapRev=dict(zip(L_s,L_p))\n",
    "        dict_map=dict(zip(L_p,L_s))\n",
    "        strNew=\"\"\n",
    "        for item in L_p:\n",
    "            strNew+=dict_map[item]+\" \"\n",
    "        patternNew=\"\"\n",
    "        for item in L_s:\n",
    "            patternNew+=dict_mapRev[item]\n",
    "        return str==strNew[:-1] and pattern==patternNew"
   ]
  }
 ],
 "metadata": {
  "kernelspec": {
   "display_name": "Python 3",
   "language": "python",
   "name": "python3"
  },
  "language_info": {
   "codemirror_mode": {
    "name": "ipython",
    "version": 3
   },
   "file_extension": ".py",
   "mimetype": "text/x-python",
   "name": "python",
   "nbconvert_exporter": "python",
   "pygments_lexer": "ipython3",
   "version": "3.6.2"
  }
 },
 "nbformat": 4,
 "nbformat_minor": 2
}
