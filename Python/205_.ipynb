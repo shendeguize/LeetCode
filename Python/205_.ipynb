{
 "cells": [
  {
   "cell_type": "code",
   "execution_count": null,
   "metadata": {
    "collapsed": true
   },
   "outputs": [],
   "source": [
    "class Solution(object):\n",
    "    def isIsomorphic(self, s, t):\n",
    "        \"\"\"\n",
    "        :type s: str\n",
    "        :type t: str\n",
    "        :rtype: bool\n",
    "        \"\"\"\n",
    "        dict_map={}\n",
    "        dict_used={}\n",
    "        for i in range(len(s)):\n",
    "            if s[i] in dict_map:\n",
    "                if t[i]!=dict_map[s[i]]:\n",
    "                    return False\n",
    "            else:\n",
    "                if t[i] in dict_used:\n",
    "                    return False\n",
    "                else:\n",
    "                    dict_map[s[i]]=t[i]\n",
    "                    dict_used[t[i]]=s[i]\n",
    "        return True"
   ]
  }
 ],
 "metadata": {
  "kernelspec": {
   "display_name": "Python 3",
   "language": "python",
   "name": "python3"
  },
  "language_info": {
   "codemirror_mode": {
    "name": "ipython",
    "version": 3
   },
   "file_extension": ".py",
   "mimetype": "text/x-python",
   "name": "python",
   "nbconvert_exporter": "python",
   "pygments_lexer": "ipython3",
   "version": "3.6.2"
  }
 },
 "nbformat": 4,
 "nbformat_minor": 2
}
