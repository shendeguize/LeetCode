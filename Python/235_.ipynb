{
 "cells": [
  {
   "cell_type": "code",
   "execution_count": null,
   "metadata": {
    "collapsed": true
   },
   "outputs": [],
   "source": [
    "# Definition for a binary tree node.\n",
    "# class TreeNode(object):\n",
    "#     def __init__(self, x):\n",
    "#         self.val = x\n",
    "#         self.left = None\n",
    "#         self.right = None\n",
    "\n",
    "class Solution(object):\n",
    "    def lowestCommonAncestor(self, root, p, q):\n",
    "        \"\"\"\n",
    "        :type root: TreeNode\n",
    "        :type p: TreeNode\n",
    "        :type q: TreeNode\n",
    "        :rtype: TreeNode\n",
    "        \"\"\"\n",
    "        now=root\n",
    "        while(1):\n",
    "            if self.isSon(now,p) and self.isSon(now,q):\n",
    "                if self.isSon(now.left,p) and self.isSon(now.left,q):\n",
    "                    now=now.left\n",
    "                elif self.isSon(now.right,p) and self.isSon(now.right,q):\n",
    "                    now=now.right\n",
    "                else:\n",
    "                    return now\n",
    "    def isSon(self,root,p):\n",
    "        if root is None:\n",
    "            return False\n",
    "        elif root.val == p.val:\n",
    "            return True\n",
    "        else:\n",
    "            return self.isSon(root.left,p) or self.isSon(root.right,p)"
   ]
  }
 ],
 "metadata": {
  "kernelspec": {
   "display_name": "Python 3",
   "language": "python",
   "name": "python3"
  },
  "language_info": {
   "codemirror_mode": {
    "name": "ipython",
    "version": 3
   },
   "file_extension": ".py",
   "mimetype": "text/x-python",
   "name": "python",
   "nbconvert_exporter": "python",
   "pygments_lexer": "ipython3",
   "version": "3.6.2"
  }
 },
 "nbformat": 4,
 "nbformat_minor": 2
}
