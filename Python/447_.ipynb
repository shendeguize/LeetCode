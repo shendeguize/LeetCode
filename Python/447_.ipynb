{
 "cells": [
  {
   "cell_type": "code",
   "execution_count": 14,
   "metadata": {
    "collapsed": true
   },
   "outputs": [],
   "source": [
    "class Solution(object):\n",
    "    import collections\n",
    "    import math\n",
    "    def numberOfBoomerangs(self, points):\n",
    "        \"\"\"\n",
    "        :type points: List[List[int]]\n",
    "        :rtype: int\n",
    "        \"\"\"\n",
    "        Out=0\n",
    "        Len=len(points)\n",
    "        for i in range(Len):\n",
    "            dictDis=collections.defaultdict(int)\n",
    "            for j in range(Len):\n",
    "                if i==j:\n",
    "                    continue\n",
    "                else:\n",
    "                    dictDis[self.Distance(points[i],points[j])]+=1\n",
    "            for item in dictDis:\n",
    "                Out+=dictDis[item]*(dictDis[item]-1)\n",
    "        return Out\n",
    "    def Distance(self,Point1,Point2):\n",
    "        return math.sqrt((Point1[0]-Point2[0])**2+(Point1[1]-Point2[1])**2)"
   ]
  },
  {
   "cell_type": "code",
   "execution_count": null,
   "metadata": {
    "collapsed": true
   },
   "outputs": [],
   "source": []
  }
 ],
 "metadata": {
  "kernelspec": {
   "display_name": "Python 3",
   "language": "python",
   "name": "python3"
  },
  "language_info": {
   "codemirror_mode": {
    "name": "ipython",
    "version": 3
   },
   "file_extension": ".py",
   "mimetype": "text/x-python",
   "name": "python",
   "nbconvert_exporter": "python",
   "pygments_lexer": "ipython3",
   "version": "3.6.2"
  }
 },
 "nbformat": 4,
 "nbformat_minor": 2
}
