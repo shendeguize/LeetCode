{
 "cells": [
  {
   "cell_type": "code",
   "execution_count": null,
   "metadata": {
    "collapsed": true
   },
   "outputs": [],
   "source": [
    "class Solution(object):\n",
    "    def findPairs(self, nums, k):\n",
    "        \"\"\"\n",
    "        :type nums: List[int]\n",
    "        :type k: int\n",
    "        :rtype: int\n",
    "        \"\"\"\n",
    "        if k<0:\n",
    "            return 0\n",
    "        nums=sorted(nums)\n",
    "        Count=0\n",
    "        Used=[]\n",
    "        for i in range(len(nums)-1):\n",
    "            if len(Used)!=0 and Used[-1]==nums[i]:\n",
    "                continue\n",
    "            for j in range(i+1,len(nums)):\n",
    "                if nums[j]-k==nums[i]:\n",
    "                    Used.append(nums[i])\n",
    "                    Count+=1\n",
    "                    break\n",
    "                elif nums[j]-k>nums[i]:\n",
    "                    break\n",
    "        return Count"
   ]
  }
 ],
 "metadata": {
  "kernelspec": {
   "display_name": "Python 3",
   "language": "python",
   "name": "python3"
  },
  "language_info": {
   "codemirror_mode": {
    "name": "ipython",
    "version": 3
   },
   "file_extension": ".py",
   "mimetype": "text/x-python",
   "name": "python",
   "nbconvert_exporter": "python",
   "pygments_lexer": "ipython3",
   "version": "3.6.2"
  }
 },
 "nbformat": 4,
 "nbformat_minor": 2
}
