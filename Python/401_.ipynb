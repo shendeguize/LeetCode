{
 "cells": [
  {
   "cell_type": "code",
   "execution_count": 46,
   "metadata": {},
   "outputs": [],
   "source": [
    "class Solution(object):\n",
    "    def readBinaryWatch(self, num):\n",
    "        \"\"\"\n",
    "        :type num: int\n",
    "        :rtype: List[str]\n",
    "        \"\"\"\n",
    "        Out=[]\n",
    "        for List in self.AllRes(num,10):\n",
    "            Temp=self.Watch(List)\n",
    "            if Temp is not None:\n",
    "                Out.append(Temp)\n",
    "                print(List,Temp)\n",
    "        return Out\n",
    "    def AllRes(self,num,Len):\n",
    "        if num==0 or Len==0:\n",
    "            return [[False]*Len]\n",
    "        elif num==Len:\n",
    "            return [[True]*Len]\n",
    "        else:\n",
    "            Temp1=self.AllRes(num,Len-1)\n",
    "            for i in range(len(Temp1)):\n",
    "                Temp1[i].append(False)\n",
    "            Temp2=self.AllRes(num-1,Len-1)\n",
    "            for i in range(len(Temp2)):\n",
    "                Temp2[i].append(True)\n",
    "            return Temp1+Temp2\n",
    "    def Watch(self,List):\n",
    "        #List [hour of 4 in BOOL,min of 6 in BOOL](4,6)\n",
    "        \n",
    "        H,M=0,0\n",
    "        for i in range(4):\n",
    "            H+=List[i]*2**(3-i)\n",
    "        for i in range(1,7):\n",
    "            M+=List[3+i]*2**(6-i)\n",
    "        if H>=12 or M>=60:\n",
    "            return None\n",
    "        return \"%d:%02d\"%(H,M)"
   ]
  },
  {
   "cell_type": "code",
   "execution_count": 45,
   "metadata": {},
   "outputs": [
    {
     "name": "stdout",
     "output_type": "stream",
     "text": [
      "[[True, False, False, False, False, False, False, False, False, False], [False, True, False, False, False, False, False, False, False, False], [False, False, True, False, False, False, False, False, False, False], [False, False, False, True, False, False, False, False, False, False], [False, False, False, False, True, False, False, False, False, False], [False, False, False, False, False, True, False, False, False, False], [False, False, False, False, False, False, True, False, False, False], [False, False, False, False, False, False, False, True, False, False], [False, False, False, False, False, False, False, False, True, False], [False, False, False, False, False, False, False, False, False, True]]\n",
      "[True, False, False, False, False, False, False, False, False, False] 8:00\n",
      "[False, True, False, False, False, False, False, False, False, False] 4:00\n",
      "[False, False, True, False, False, False, False, False, False, False] 2:00\n",
      "[False, False, False, True, False, False, False, False, False, False] 1:00\n",
      "[False, False, False, False, True, False, False, False, False, False] 0:32\n",
      "[False, False, False, False, False, True, False, False, False, False] 0:16\n",
      "[False, False, False, False, False, False, True, False, False, False] 0:08\n",
      "[False, False, False, False, False, False, False, True, False, False] 0:04\n",
      "[False, False, False, False, False, False, False, False, True, False] 0:02\n",
      "[False, False, False, False, False, False, False, False, False, True] 0:01\n",
      "['8:00', '4:00', '2:00', '1:00', '0:32', '0:16', '0:08', '0:04', '0:02', '0:01']\n"
     ]
    }
   ],
   "source": [
    "self=Solution\n",
    "print(self.AllRes(self,1,10))\n",
    "print(self.readBinaryWatch(self,1))"
   ]
  },
  {
   "cell_type": "code",
   "execution_count": null,
   "metadata": {
    "collapsed": true
   },
   "outputs": [],
   "source": []
  }
 ],
 "metadata": {
  "kernelspec": {
   "display_name": "Python 3",
   "language": "python",
   "name": "python3"
  },
  "language_info": {
   "codemirror_mode": {
    "name": "ipython",
    "version": 3
   },
   "file_extension": ".py",
   "mimetype": "text/x-python",
   "name": "python",
   "nbconvert_exporter": "python",
   "pygments_lexer": "ipython3",
   "version": "3.6.2"
  }
 },
 "nbformat": 4,
 "nbformat_minor": 2
}
