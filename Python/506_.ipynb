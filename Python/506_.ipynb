{
 "cells": [
  {
   "cell_type": "code",
   "execution_count": null,
   "metadata": {
    "collapsed": true
   },
   "outputs": [],
   "source": [
    "class Solution(object):\n",
    "    def findRelativeRanks(self, nums):\n",
    "        \"\"\"\n",
    "        :type nums: List[int]\n",
    "        :rtype: List[str]\n",
    "        \"\"\"\n",
    "        for i in range(len(nums)):\n",
    "            nums[i]=[i,nums[i]]\n",
    "        nums=sorted(nums,key=lambda x:x[1])\n",
    "        for i in range(len(nums)):\n",
    "            nums[i][1]=str(len(nums)-i)\n",
    "        nums[-1][1]=\"Gold Medal\"\n",
    "        if len(nums)>=2:\n",
    "            nums[-2][1]=\"Silver Medal\"\n",
    "        if len(nums)>=3:\n",
    "            nums[-3][1]=\"Bronze Medal\"\n",
    "        nums=sorted(nums,key=lambda x:x[0])\n",
    "        for i in range(len(nums)):\n",
    "            nums[i]=nums[i][-1]\n",
    "        return nums"
   ]
  },
  {
   "cell_type": "code",
   "execution_count": null,
   "metadata": {
    "collapsed": true
   },
   "outputs": [],
   "source": []
  }
 ],
 "metadata": {
  "kernelspec": {
   "display_name": "Python 3",
   "language": "python",
   "name": "python3"
  },
  "language_info": {
   "codemirror_mode": {
    "name": "ipython",
    "version": 3
   },
   "file_extension": ".py",
   "mimetype": "text/x-python",
   "name": "python",
   "nbconvert_exporter": "python",
   "pygments_lexer": "ipython3",
   "version": "3.6.2"
  }
 },
 "nbformat": 4,
 "nbformat_minor": 2
}
