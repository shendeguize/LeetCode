{
 "cells": [
  {
   "cell_type": "code",
   "execution_count": 1,
   "metadata": {
    "collapsed": true
   },
   "outputs": [],
   "source": [
    "class Solution:\n",
    "    def isValid(self, s):\n",
    "        \"\"\"\n",
    "        :type s: str\n",
    "        :rtype: bool\n",
    "        \"\"\"\n",
    "        dict_Par={'(':1,')':-1,\n",
    "                  '{':2,'}':-2,\n",
    "                  '[':3,']':-3\n",
    "                 }\n",
    "        list_Stack,S=[],[]        \n",
    "        for Char in s:\n",
    "            S.append(dict_Par[Char])\n",
    "        for i in range(len(S)):\n",
    "            list_Stack.append(S[i])\n",
    "            if len(list_Stack)>=2:\n",
    "                if list_Stack[-1]+list_Stack[-2]==0:\n",
    "                    list_Stack.pop()\n",
    "                    list_Stack.pop()\n",
    "        if len(list_Stack)!=0:\n",
    "            return False\n",
    "        else:\n",
    "            return True"
   ]
  },
  {
   "cell_type": "code",
   "execution_count": null,
   "metadata": {
    "collapsed": true
   },
   "outputs": [],
   "source": []
  }
 ],
 "metadata": {
  "kernelspec": {
   "display_name": "Python 3",
   "language": "python",
   "name": "python3"
  },
  "language_info": {
   "codemirror_mode": {
    "name": "ipython",
    "version": 3
   },
   "file_extension": ".py",
   "mimetype": "text/x-python",
   "name": "python",
   "nbconvert_exporter": "python",
   "pygments_lexer": "ipython3",
   "version": "3.6.2"
  }
 },
 "nbformat": 4,
 "nbformat_minor": 2
}
