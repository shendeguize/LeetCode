{
 "cells": [
  {
   "cell_type": "code",
   "execution_count": null,
   "metadata": {
    "collapsed": true
   },
   "outputs": [],
   "source": [
    "# Definition for a binary tree node.\n",
    "# class TreeNode(object):\n",
    "#     def __init__(self, x):\n",
    "#         self.val = x\n",
    "#         self.left = None\n",
    "#         self.right = None\n",
    "\n",
    "class Solution(object):\n",
    "    import collections\n",
    "    def findMode(self, root):\n",
    "        \"\"\"\n",
    "        :type root: TreeNode\n",
    "        :rtype: List[int]\n",
    "        \"\"\"\n",
    "        if root is None:\n",
    "            return []\n",
    "        D=collections.defaultdict(int)\n",
    "        for item in self.Search(root):\n",
    "            D[item]+=1\n",
    "        Max=1\n",
    "        for item in D:\n",
    "            Max=max(Max,D[item])\n",
    "        Out=[]\n",
    "        for item in D:\n",
    "            if D[item]==Max:\n",
    "                Out.append(item)\n",
    "        return Out\n",
    "    def Search(self,root):\n",
    "        if root is None:\n",
    "            return []\n",
    "        elif root.left is None and root.right is None:\n",
    "            return [root.val]\n",
    "        else:\n",
    "            return [root.val]+self.Search(root.left)+self.Search(root.right)"
   ]
  }
 ],
 "metadata": {
  "kernelspec": {
   "display_name": "Python 3",
   "language": "python",
   "name": "python3"
  },
  "language_info": {
   "codemirror_mode": {
    "name": "ipython",
    "version": 3
   },
   "file_extension": ".py",
   "mimetype": "text/x-python",
   "name": "python",
   "nbconvert_exporter": "python",
   "pygments_lexer": "ipython3",
   "version": "3.6.2"
  }
 },
 "nbformat": 4,
 "nbformat_minor": 2
}
