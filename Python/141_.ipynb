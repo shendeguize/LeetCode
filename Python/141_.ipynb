{
 "cells": [
  {
   "cell_type": "code",
   "execution_count": null,
   "metadata": {
    "collapsed": true
   },
   "outputs": [],
   "source": [
    "# Definition for singly-linked list.\n",
    "# class ListNode(object):\n",
    "#     def __init__(self, x):\n",
    "#         self.val = x\n",
    "#         self.next = None\n",
    "\n",
    "class Solution(object):\n",
    "    def hasCycle(self, head):\n",
    "        \"\"\"\n",
    "        :type head: ListNode\n",
    "        :rtype: bool\n",
    "        \"\"\"\n",
    "        if head is None or head.next is None:\n",
    "            return False\n",
    "        else:\n",
    "            p_Slow=head\n",
    "            p_Fast=head.next\n",
    "            while(1):\n",
    "                if p_Fast.next is None:\n",
    "                    return False\n",
    "                elif p_Fast.next.next is None:\n",
    "                    return False\n",
    "                elif p_Fast==p_Slow:\n",
    "                    return True\n",
    "                else:\n",
    "                    p_Slow=p_Slow.next\n",
    "                    p_Fast=p_Fast.next.next"
   ]
  }
 ],
 "metadata": {
  "kernelspec": {
   "display_name": "Python 3",
   "language": "python",
   "name": "python3"
  },
  "language_info": {
   "codemirror_mode": {
    "name": "ipython",
    "version": 3
   },
   "file_extension": ".py",
   "mimetype": "text/x-python",
   "name": "python",
   "nbconvert_exporter": "python",
   "pygments_lexer": "ipython3",
   "version": "3.6.2"
  }
 },
 "nbformat": 4,
 "nbformat_minor": 2
}
