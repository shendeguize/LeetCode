{
 "cells": [
  {
   "cell_type": "code",
   "execution_count": 5,
   "metadata": {},
   "outputs": [],
   "source": [
    "# Definition for singly-linked list.\n",
    "# class ListNode(object):\n",
    "#     def __init__(self, x):\n",
    "#         self.val = x\n",
    "#         self.next = None\n",
    "\n",
    "class Solution(object):\n",
    "    def getIntersectionNode(self, headA, headB):\n",
    "        \"\"\"\n",
    "        :type head1, head1: ListNode\n",
    "        :rtype: ListNode\n",
    "        \"\"\"\n",
    "        if headA is None or headB is None:\n",
    "            return None\n",
    "        LenA=self.LinkLen(headA)\n",
    "        LenB=self.LinkLen(headB)\n",
    "        if LenA>=LenB:\n",
    "            for i in range(LenA-LenB):\n",
    "                headA=headA.next\n",
    "        else:\n",
    "            for i in range(LenB-LenA):\n",
    "                headB=headB.next\n",
    "        for i in range(min(LenA,LenB)):\n",
    "            if headA.val==headB.val:\n",
    "                return headA\n",
    "            headA=headA.next\n",
    "            headB=headB.next\n",
    "    def LinkLen(self,head):\n",
    "        if head is None:\n",
    "            return 0\n",
    "        else:\n",
    "            return self.LinkLen(head.next)+1"
   ]
  },
  {
   "cell_type": "code",
   "execution_count": null,
   "metadata": {
    "collapsed": true
   },
   "outputs": [],
   "source": []
  }
 ],
 "metadata": {
  "kernelspec": {
   "display_name": "Python 3",
   "language": "python",
   "name": "python3"
  },
  "language_info": {
   "codemirror_mode": {
    "name": "ipython",
    "version": 3
   },
   "file_extension": ".py",
   "mimetype": "text/x-python",
   "name": "python",
   "nbconvert_exporter": "python",
   "pygments_lexer": "ipython3",
   "version": "3.6.2"
  }
 },
 "nbformat": 4,
 "nbformat_minor": 2
}
