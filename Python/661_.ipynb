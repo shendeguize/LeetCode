{
 "cells": [
  {
   "cell_type": "code",
   "execution_count": null,
   "metadata": {
    "collapsed": true
   },
   "outputs": [],
   "source": [
    "class Solution:\n",
    "    def imageSmoother(self, M):\n",
    "        \"\"\"\n",
    "        :type M: List[List[int]]\n",
    "        :rtype: List[List[int]]\n",
    "        \"\"\"\n",
    "        X,Y=len(M[0]),len(M)\n",
    "        print(X,Y)\n",
    "        Out=[([0]*X)for i in range(Y)]\n",
    "        if X==1 and Y==1:\n",
    "            return M\n",
    "        elif Y==1:\n",
    "            Out[0][0]=(M[0][1]+M[0][0])//2\n",
    "            Out[0][-1]=(M[0][-2]+M[0][-1])//2\n",
    "            for i in range(1,X-1):\n",
    "                Out[0][i]=(M[0][i-1]+M[0][i]+M[0][i+1])//3\n",
    "            return Out\n",
    "        elif X==1:\n",
    "            Out[0][0]=(M[0][0]+M[1][0])//2\n",
    "            Out[-1][0]=(M[-1][0]+M[-2][0])//2\n",
    "            for i in range(1,Y-1):\n",
    "                Out[i][0]=(M[i-1][0]+M[i][0]+M[i+1][0])//3\n",
    "            return Out\n",
    "        for i in range(1,X-1):\n",
    "            for j in range(1,Y-1):\n",
    "                Out[j][i]=(sum(M[j-1][i-1:i+2])+sum(M[j][i-1:i+2])+sum(M[j+1][i-1:i+2]))//9\n",
    "        Out[0][0]=(M[0][0]+M[0][1]+M[1][0]+M[1][1])//4\n",
    "        Out[-1][-1]=(M[-1][-1]+M[-1][-2]+M[-2][-1]+M[-2][-2])//4\n",
    "        Out[-1][0]=(M[-1][0]+M[-1][1]+M[-2][0]+M[-2][1])//4\n",
    "        Out[0][-1]=(M[0][-1]+M[0][-2]+M[1][-1]+M[1][-2])//4\n",
    "        for i in range(1,X-1):\n",
    "            Out[0][i]=(sum(M[0][i-1:i+2])+sum(M[1][i-1:i+2]))//6\n",
    "            Out[-1][i]=(sum(M[-1][i-1:i+2])+sum(M[-2][i-1:i+2]))//6\n",
    "        for j in range(1,Y-1):\n",
    "            Out[j][0]=((M[j][0]+M[j][1]+M[j-1][0]+M[j-1][1]+M[j+1][0]+M[j+1][1]))//6\n",
    "            Out[j][-1]=((M[j][-1]+M[j][-2]+M[j-1][-1]+M[j-1][-2]+M[j+1][-1]+M[j+1][-2]))//6\n",
    "        return Out"
   ]
  },
  {
   "cell_type": "code",
   "execution_count": null,
   "metadata": {
    "collapsed": true
   },
   "outputs": [],
   "source": []
  }
 ],
 "metadata": {
  "kernelspec": {
   "display_name": "Python 3",
   "language": "python",
   "name": "python3"
  },
  "language_info": {
   "codemirror_mode": {
    "name": "ipython",
    "version": 3
   },
   "file_extension": ".py",
   "mimetype": "text/x-python",
   "name": "python",
   "nbconvert_exporter": "python",
   "pygments_lexer": "ipython3",
   "version": "3.6.2"
  }
 },
 "nbformat": 4,
 "nbformat_minor": 2
}
