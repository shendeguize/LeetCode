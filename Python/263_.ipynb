{
 "cells": [
  {
   "cell_type": "code",
   "execution_count": null,
   "metadata": {
    "collapsed": true
   },
   "outputs": [],
   "source": [
    "class Solution(object):\n",
    "    def isUgly(self, num):\n",
    "        \"\"\"\n",
    "        :type num: int\n",
    "        :rtype: bool\n",
    "        \"\"\"\n",
    "        if num<1:\n",
    "            return False\n",
    "        elif num<=5:\n",
    "            return True\n",
    "        else:\n",
    "            if num%2==0:\n",
    "                return self.isUgly(num/2)\n",
    "            elif num%3==0:\n",
    "                return self.isUgly(num/3)\n",
    "            elif num%5==0:\n",
    "                return self.isUgly(num/5)\n",
    "            else:\n",
    "                return False"
   ]
  }
 ],
 "metadata": {
  "kernelspec": {
   "display_name": "Python 3",
   "language": "python",
   "name": "python3"
  },
  "language_info": {
   "codemirror_mode": {
    "name": "ipython",
    "version": 3
   },
   "file_extension": ".py",
   "mimetype": "text/x-python",
   "name": "python",
   "nbconvert_exporter": "python",
   "pygments_lexer": "ipython3",
   "version": "3.6.2"
  }
 },
 "nbformat": 4,
 "nbformat_minor": 2
}
